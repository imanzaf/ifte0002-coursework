{
 "cells": [
  {
   "cell_type": "markdown",
   "id": "fdcde924-4ed4-4035-bc14-914654e74dec",
   "metadata": {},
   "source": [
    "# **5. Experiments and Results**"
   ]
  },
  {
   "cell_type": "markdown",
   "id": "c17ac684-ffa5-4aab-9beb-f061d49c4820",
   "metadata": {
    "jp-MarkdownHeadingCollapsed": true
   },
   "source": [
    "# 5.1.1 Return Model 1 Expermients"
   ]
  },
  {
   "cell_type": "markdown",
   "id": "c694d1b2-1367-4af7-acb4-be950ce23c27",
   "metadata": {
    "jp-MarkdownHeadingCollapsed": true
   },
   "source": [
    "# 5.1.2 Return ANN Model Experiments"
   ]
  },
  {
   "cell_type": "markdown",
   "id": "767019e6-bf14-4323-ac36-ea295f1affb4",
   "metadata": {},
   "source": [
    "# 5.1.3 Default XGBoost Experiments"
   ]
  },
  {
   "cell_type": "markdown",
   "id": "d8ef7654-a14f-454c-9891-f1f0d17f504e",
   "metadata": {},
   "source": [
    "### Overfitting Assessment\n",
    "\n",
    "To evaluate model stability, ROC AUC scores were compared across training, test, and cross-validation sets:\n",
    "\n",
    "| Model                     | Train AUC | Test AUC | 3-Fold CV AUC (Train) |\n",
    "|----------------------------|-----------|----------|-----------------------|\n",
    "| Baseline XGBoost           | 0.7285    | 0.7278   | 0.7262 ± 0.0010        |\n",
    "| Tuned XGBoost (final)      | 0.7444    | 0.7317   | 0.7295 ± 0.0011        |\n",
    "\n",
    "Both models showed minimal overfitting, with consistent performance between training and testing.\n",
    "\n",
    "\n",
    "### Learning Curve Analysis\n",
    "\n",
    "The learning curve shows the evolution of model performance as the training set size increases:\n",
    "\n",
    "| Metric            | Trend                                                    | Insight                                         |\n",
    "|-------------------|-----------------------------------------------------------|-------------------------------------------------|\n",
    "| Training AUC      | Started high (~0.84), gradually declined to ~0.75          | Indicates initial overfitting, stabilising with more data |\n",
    "| Validation AUC    | Steadily increased from ~0.718 to ~0.729                  | Shows improved generalisation over time        |\n",
    "| Gap Between Curves| Narrowed as training progressed                           | Moderate, manageable overfitting               |\n",
    "\n",
    "Overall, the model generalizes effectively, though additional data offers diminishing returns beyond a certain point.\n",
    "\n",
    "### Feature Importance Analysis\n",
    "\n",
    "Using gain-based feature importance scores from the tuned XGBoost model, the top predictors of loan default were identified based on their contribution to model performance:\n",
    "\n",
    "| Rank | Feature                    | Key Insight                                                                                   |\n",
    "|-----:|-----------------------------|----------------------------------------------------------------------------------------------|\n",
    "| 1    | `int_rate`                  | Higher interest rates strongly correlate with higher credit risk and default probability.   |\n",
    "| 2    | `grade_B`                   | Credit grade linked to borrower risk profiling and expected repayment behavior.             |\n",
    "| 3    | `term_60 months`             | Longer loan terms increase risk due to extended borrower exposure over time.                 |\n",
    "| 4    | `home_ownership_MORTGAGE`    | Mortgage status may signal higher financial obligations compared to outright ownership.      |\n",
    "| 5    | `home_ownership_RENT`        | Renters may have less financial stability, increasing default risk.                         |\n",
    "| 6    | `emp_length_Unknown`         | Missing employment length data may suggest weaker credit profiles.                          |\n",
    "| 7    | `grade_C`                    | Lower credit grades (C, D, E) are associated with higher default probability.                |\n",
    "| 8    | `grade_E`                    | Similar to grade_C, indicating higher credit risk borrowers.                                |\n",
    "| 9    | `fico_range_high`            | Lower FICO ranges are tied to higher default risk.                                           |\n",
    "| 10   | `grade_D`                    | Further reinforces the risk link between lower grades and default likelihood.               |\n",
    "| 11   | `dti`                        | Higher debt-to-income ratios indicate greater repayment burden and risk.                    |\n",
    "| 12   | `loan_amnt`                  | Larger loan amounts correlate with increased financial strain and default likelihood.       |\n",
    "| 13   | `verification_status_Verified` | Verified income status affects borrower credibility and repayment assessment.             |\n",
    "| 14   | `purpose_small_business`     | Loans for small businesses carry elevated risk due to business volatility.                  |\n",
    "| 15   | `installment`                | Monthly repayment amounts impact borrower affordability and repayment behavior.             |\n",
    "\n",
    "While features with lower gain-based importance contributed less to predictive performance in this model, they remain relevant indicators of borrower behavior and credit risk in real-world lending contexts."
   ]
  },
  {
   "cell_type": "markdown",
   "id": "d16acf4c-4a15-4f90-91d2-b28174f8ba69",
   "metadata": {},
   "source": [
    "# 5.1.4 Default ANN Model Experiments"
   ]
  },
  {
   "cell_type": "markdown",
   "id": "5a23ba90-1c81-4f26-8124-787f685a4e64",
   "metadata": {},
   "source": [
    "# 5.2.1 Detailed Comparative Analysis of Return Models"
   ]
  },
  {
   "cell_type": "markdown",
   "id": "c346250f-6efc-46c1-a373-0afd694cc343",
   "metadata": {},
   "source": [
    "# 5.2.2 Detailed Comparative Analysis of Default Models "
   ]
  },
  {
   "cell_type": "markdown",
   "id": "92b2ca06-05fd-42ac-a232-96d7c1550368",
   "metadata": {},
   "source": [
    "### Table of Model Evaluation Metric Comparisions"
   ]
  },
  {
   "cell_type": "markdown",
   "id": "1271fb85-daf9-412a-bc4e-f199e9616dde",
   "metadata": {
    "jp-MarkdownHeadingCollapsed": true
   },
   "source": [
    "| Model                   | Accuracy | Precision (Class 1) | Recall (Class 1) | F1 Score (Class 1) | ROC AUC |\n",
    "|--------------------------|----------|---------------------|------------------|--------------------|---------|\n",
    "| ANN (Thresh 0.45)         | 0.6680   | 0.3660              | 0.7760           | 0.4980             | 0.7750  |\n",
    "| XGB (Thresh 0.30)         | 0.6607   | 0.2626              | 0.9256           | 0.4091             | 0.7317  |\n",
    "| XGB (Thresh 0.50)         | 0.6607   | 0.3463              | 0.6815           | 0.4592             | 0.7317  |\n",
    "| XGB (Thresh 0.70)         | 0.6607   | 0.4886              | 0.2862           | 0.3610             | 0.7317  |\n",
    "| RF (Baseline)             | 0.8030   | 0.5800              | 0.1700           | 0.2600             | 0.7760  |\n",
    "| RF (Class Weighted)       | 0.8020   | 0.5900              | 0.1500           | 0.2400             | 0.7790  |\n",
    "| RF (Thresh 0.2)           | 0.8020   | 0.3400              | 0.8100           | 0.4800             | 0.7790  |\n",
    "| RF Weighted + Thresh 0.2  | 0.8020   | 0.3500              | 0.7900           | 0.4900             | 0.7790  |\n"
   ]
  },
  {
   "cell_type": "markdown",
   "id": "05797978-2416-4803-b7c0-f6fb7cd69acf",
   "metadata": {
    "jp-MarkdownHeadingCollapsed": true
   },
   "source": [
    "The models offer complementary strengths: ANN provides stable recall and AUC, XGBoost offers flexible threshold tuning for risk control, and Random Forest achieves the best F1 balance. To best meet the coursework goal of minimising defaults, XGBoost at a 0.30 threshold is recommended as the primary model."
   ]
  },
  {
   "cell_type": "markdown",
   "id": "806e68c1-3b21-4252-9407-9f2947e7d3dc",
   "metadata": {
    "jp-MarkdownHeadingCollapsed": true
   },
   "source": [
    "| Goal                          | Best Model                  | Reasoning                                            |\n",
    "|------------------------------- |----------------------------- |----------------------------------------------------- |\n",
    "| Maximizing Recall              | XGBoost @ Threshold 0.30     | Catching nearly all positives (recall = 0.93)        |\n",
    "| Maximizing Precision           | XGBoost @ Threshold 0.70     | Highest precision (0.49) with controlled recall      |\n",
    "| Balanced F1 (Fair Trade-off)    | RF Weighted + Threshold      | Best F1 (0.49), strong recall and decent precision   |\n",
    "| Overall AUC Performance        | ANN or RF (any tuned)         | AUC (0.775-0.779), best class discrimination         |\n"
   ]
  },
  {
   "cell_type": "markdown",
   "id": "eafbe998-8a63-41d2-914a-82fba139997b",
   "metadata": {},
   "source": [
    "# 5.3.1 High-Return Loan Portfolio Analysis: _________ "
   ]
  },
  {
   "cell_type": "markdown",
   "id": "f2612bfe-cca3-442e-a671-21fe3a56cc8a",
   "metadata": {},
   "source": [
    "# 5.3.2 Low-Risk Loan Portfolio Analysis: XGBoost "
   ]
  },
  {
   "cell_type": "markdown",
   "id": "d14776d0-38df-43a7-bb0d-caa37212b0c2",
   "metadata": {},
   "source": [
    "### Loan Portfolio Segmentation Using XGBoost\n",
    "\n",
    "Different threshold-based strategies for loan portfolio construction were explored. The following table summarises the key portfolio options:\n",
    "\n",
    "| Strategy                        | Total Loans Selected | Observed Default Rate | Key Insight                                                 |\n",
    "|----------------------------------|----------------------|-----------------------|-------------------------------------------------------------|\n",
    "| Threshold-Based (< 0.2)          | 19,277               | 3.94%                 | Very low-risk portfolio ideal for minimising defaults.      |\n",
    "| Top N Loans (Top 300 safest)     | 300                  | 1.33%                 | Ultra-low default rate but limited size and diversification.|\n",
    "| Top X% Loans (Top 10%)           | 15,134               | 3.36%                 | Balances low risk with larger portfolio scale.              |\n",
    "\n",
    "### Recommendations\n",
    "- For clients prioritizing ultra-low risk, Top 300 safest portfolio is ideal.\n",
    "- For those balancing risk and scale, Threshold < 0.2 portfolio provides a larger selection with still very low risk.\n",
    "- Top 10% portfolios present a strong middle ground, offering both diversification and significantly reduced default risks."
   ]
  },
  {
   "cell_type": "markdown",
   "id": "142cdc61-177b-423f-bff3-b3a42356ebc6",
   "metadata": {},
   "source": [
    "# **6. Limitations** (Not finished, Incorporate everybody's limitations)"
   ]
  },
  {
   "cell_type": "markdown",
   "id": "f19ae1c8-c814-42b1-9f18-ea627d621331",
   "metadata": {},
   "source": [
    "While the current analysis provides strong baseline results, limitations such as moderate overfitting, diminishing returns from additional data, and model interpretability constraints highlight areas for further improvement. Future work could focus on advanced feature engineering, hyperparameter optimization, or exploring alternative models (e.g., LightGBM, CatBoost, or interpretable models like Explainable Boosting Machines) to enhance predictive performance and transparency."
   ]
  },
  {
   "cell_type": "markdown",
   "id": "66583ea1-a3e5-4307-b586-49eeedf7ff54",
   "metadata": {},
   "source": [
    "# **7. Conclusion** "
   ]
  },
  {
   "cell_type": "markdown",
   "id": "57f16f55-d4a7-4f3e-8389-39da64378eed",
   "metadata": {},
   "source": [
    "This coursework successfully developed two investment strategies using the Lending Club dataset: one focused on maximising returns and the other on minimising default risk.\n",
    "\n",
    "For the return-maximisation strategy, a custom definition of return was constructed based on realised cash flows relative to the initial loan amount, ensuring a realistic and transparent measure of investment performance tailored to the lending context. Tree-based models and artificial neural networks (ANNs) were trained to predict high-return loans, with extensive data preparation steps including one-hot encoding of categorical variables and feature scaling to enhance ANN stability and learning performance. The target variable was binarized based on profitability, creating a clear prediction task aligned with investment goals. Hyperparameter tuning was conducted using Keras Tuner with Random Search, exploring different neuron counts to optimise model architecture. The final ANN model, selected based on minimising validation mean squared error, effectively captured complex patterns in the data and supported portfolio selection focused on maximising profitability while managing exposure to concentrated risks.\n",
    "\n",
    "For the default-minimisation strategy, predictive models — specifically XGBoost and ANN — were employed to accurately identify low-risk borrowers. Threshold adjustment techniques were applied to refine borrower segmentation, allowing for the creation of portfolios with significantly reduced observed default rates. Through the use of threshold tuning, feature importance analysis, and portfolio simulation, the approach successfully combined technical model performance with practical, investor-oriented decision-making.\n",
    "\n",
    "Across both strategies, model performance was carefully assessed using a range of evaluation metrics including AUC, F1 score, precision, and recall, while learning curve and overfitting assessments confirmed model stability and generalisability. The analysis further ensured that selected portfolios not only performed well on training data but also maintained robustness when evaluated on independent test sets.\n",
    "\n",
    "Ultimately, the project demonstrated a structured, end-to-end application of predictive modelling to real-world investment decision-making, aligning technical modelling practices with practical investment objectives. By integrating machine learning techniques with financial reasoning, the project highlights how data-driven approaches can effectively support strategic loan investment decisions in peer-to-peer lending markets."
   ]
  },
  {
   "cell_type": "code",
   "execution_count": null,
   "id": "420807e3-2fc1-4107-a773-d384701b83e4",
   "metadata": {},
   "outputs": [],
   "source": []
  }
 ],
 "metadata": {
  "kernelspec": {
   "display_name": "Python [conda env:base] *",
   "language": "python",
   "name": "conda-base-py"
  },
  "language_info": {
   "codemirror_mode": {
    "name": "ipython",
    "version": 3
   },
   "file_extension": ".py",
   "mimetype": "text/x-python",
   "name": "python",
   "nbconvert_exporter": "python",
   "pygments_lexer": "ipython3",
   "version": "3.12.7"
  }
 },
 "nbformat": 4,
 "nbformat_minor": 5
}
