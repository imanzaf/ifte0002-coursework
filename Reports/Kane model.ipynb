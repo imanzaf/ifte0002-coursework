{
  "nbformat": 4,
  "nbformat_minor": 0,
  "metadata": {
    "colab": {
      "provenance": []
    },
    "kernelspec": {
      "name": "python3",
      "display_name": "Python 3"
    },
    "language_info": {
      "name": "python"
    }
  },
  "cells": [
    {
      "cell_type": "code",
      "execution_count": null,
      "metadata": {
        "colab": {
          "base_uri": "https://localhost:8080/"
        },
        "id": "SBFmqRGmA0sl",
        "outputId": "830f8e53-5140-4aca-dfdc-7325cb41d13f"
      },
      "outputs": [
        {
          "output_type": "stream",
          "name": "stdout",
          "text": [
            "Mounted at /content/drive\n"
          ]
        }
      ],
      "source": [
        "from google.colab import drive\n",
        "drive.mount('/content/drive')\n"
      ]
    },
    {
      "cell_type": "code",
      "source": [
        "## --- Load dataset and calculate returns ---\n",
        "\n",
        "import pandas as pd\n",
        "import numpy as np\n",
        "\n",
        "# Load dataset\n",
        "path = \"/content/drive/MyDrive/lending_club_dataset.pickle\"\n",
        "data = pd.read_pickle(path)\n",
        "df = data[0]\n",
        "\n",
        "# Calculate return metrics\n",
        "df['raw_roi'] = (df['total_pymnt'] + df['recoveries']) / df['loan_amnt'] - 1\n",
        "df['ann_roi'] = df['raw_roi'] / (df['term_num'] / 12)\n",
        "df['log_return'] = np.log1p(df['ann_roi'])\n",
        "\n",
        "# Feature engineering\n",
        "df['installment_to_income'] = df['installment'] / df['annual_inc']\n",
        "df['loan_to_income'] = df['loan_amnt'] / df['annual_inc']\n",
        "\n",
        "# Drop leaky features\n",
        "leak_features = ['total_pymnt', 'recoveries', 'last_pymnt_d', 'ret_PESS', 'ret_OPT', 'ret_INTa', 'ret_INTb', 'ret_INTc']\n",
        "df = df.drop(columns=[col for col in leak_features if col in df.columns])\n",
        "\n"
      ],
      "metadata": {
        "id": "TcL0vrVDBMO5"
      },
      "execution_count": null,
      "outputs": []
    },
    {
      "cell_type": "code",
      "source": [
        "# --- Setup preprocessing ---\n",
        "\n",
        "from sklearn.model_selection import train_test_split\n",
        "from sklearn.preprocessing import StandardScaler, OneHotEncoder\n",
        "from sklearn.compose import ColumnTransformer\n",
        "\n",
        "# Features\n",
        "numerical = [\"loan_amnt\", \"funded_amnt\", \"installment\", \"int_rate\", \"annual_inc\", \"loan_length\", \"term_num\",\n",
        "             \"installment_to_income\", \"loan_to_income\"]\n",
        "categorical = [\"home_ownership\", \"grade\", \"emp_length\"]\n",
        "features = numerical + categorical\n",
        "\n",
        "# Fill missing values\n",
        "for col in numerical:\n",
        "    df[col] = df[col].fillna(df[col].median())\n",
        "for col in categorical:\n",
        "    df[col] = df[col].fillna(\"Missing\")\n",
        "\n",
        "X = df[features]\n",
        "y_raw_roi = df[\"raw_roi\"]\n",
        "\n",
        "# Split the data once based on raw_roi\n",
        "X_train, X_test, y_train_raw_roi, y_test_raw_roi = train_test_split(X, y_raw_roi, test_size=0.2, random_state=42)\n",
        "\n",
        "# Now calculate ann_roi and log_return correctly\n",
        "term_num_train = X_train[\"term_num\"]\n",
        "term_num_test = X_test[\"term_num\"]\n",
        "\n",
        "y_train_ann_roi = y_train_raw_roi / (term_num_train / 12)\n",
        "y_test_ann_roi = y_test_raw_roi / (term_num_test / 12)\n",
        "\n",
        "y_train_log_return = np.log1p(y_train_ann_roi)\n",
        "y_test_log_return = np.log1p(y_test_ann_roi)\n",
        "\n",
        "# Setup preprocessor\n",
        "preprocessor = ColumnTransformer(transformers=[\n",
        "    (\"num\", StandardScaler(), numerical),\n",
        "    (\"cat\", OneHotEncoder(handle_unknown=\"ignore\"), categorical)\n",
        "])\n",
        "\n",
        "# Fit preprocessor\n",
        "preprocessor.fit(X_train)\n",
        "\n",
        "# Transform the data\n",
        "X_train_processed = preprocessor.transform(X_train)\n",
        "X_test_processed = preprocessor.transform(X_test)\n"
      ],
      "metadata": {
        "id": "BHDZoH5bk9Z-"
      },
      "execution_count": null,
      "outputs": []
    },
    {
      "cell_type": "code",
      "source": [
        "# --- Train Random Forest Models Separately (with subsampling) ---\n",
        "\n",
        "from sklearn.ensemble import RandomForestRegressor\n",
        "from sklearn.metrics import mean_squared_error, r2_score\n",
        "\n",
        "# Subsampling training function\n",
        "def train_rf_on_sample(X_full, y_full, sample_size=50000):\n",
        "    idx = np.random.choice(range(X_full.shape[0]), size=sample_size, replace=False)\n",
        "    X_sample = X_full[idx]\n",
        "    y_sample = y_full.iloc[idx]\n",
        "\n",
        "    model = RandomForestRegressor(n_estimators=30, max_depth=10, random_state=42)\n",
        "    model.fit(X_sample, y_sample)\n",
        "    return model\n",
        "\n",
        "# Model 1: RAW ROI\n",
        "model_raw = train_rf_on_sample(X_train_processed, y_train_raw_roi)\n",
        "pred_raw = model_raw.predict(X_test_processed)\n",
        "\n",
        "print(\"Model 1: RAW ROI\")\n",
        "print(f\"RAW ROI - MSE: {mean_squared_error(y_test_raw_roi, pred_raw):.6f} | R²: {r2_score(y_test_raw_roi, pred_raw):.4f}\")\n",
        "\n",
        "# Model 2: ANN ROI\n",
        "model_ann = train_rf_on_sample(X_train_processed, y_train_ann_roi)\n",
        "pred_ann = model_ann.predict(X_test_processed)\n",
        "\n",
        "print(\"\\nModel 2: ANN ROI\")\n",
        "print(f\"ANN ROI - MSE: {mean_squared_error(y_test_ann_roi, pred_ann):.6f} | R²: {r2_score(y_test_ann_roi, pred_ann):.4f}\")\n",
        "\n",
        "# Model 3: LOG RETURN\n",
        "model_log = train_rf_on_sample(X_train_processed, y_train_log_return)\n",
        "pred_log = model_log.predict(X_test_processed)\n",
        "\n",
        "print(\"\\nModel 3: LOG RETURN\")\n",
        "print(f\"LOG RETURN - MSE: {mean_squared_error(y_test_log_return, pred_log):.6f} | R²: {r2_score(y_test_log_return, pred_log):.4f}\")\n"
      ],
      "metadata": {
        "colab": {
          "base_uri": "https://localhost:8080/"
        },
        "id": "zxZA_-cElOkp",
        "outputId": "d9b62153-9f44-474d-e776-4c455f1a34c7"
      },
      "execution_count": null,
      "outputs": [
        {
          "output_type": "stream",
          "name": "stdout",
          "text": [
            "Model 1: RAW ROI\n",
            "RAW ROI - MSE: 0.053504 | R²: 0.2710\n",
            "\n",
            "Model 2: ANN ROI\n",
            "ANN ROI - MSE: 0.004253 | R²: 0.2826\n",
            "\n",
            "Model 3: LOG RETURN\n",
            "LOG RETURN - MSE: 0.005018 | R²: 0.2683\n"
          ]
        }
      ]
    }
  ]
}