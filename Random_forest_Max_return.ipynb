{
 "cells": [
  {
   "cell_type": "code",
   "execution_count": 79,
   "metadata": {},
   "outputs": [],
   "source": [
    "import pandas as pd\n",
    "import numpy as np\n",
    "import os\n",
    "import sys\n",
    "import tensorflow as tf\n",
    "import pickle\n",
    "import re"
   ]
  },
  {
   "cell_type": "code",
   "execution_count": 80,
   "metadata": {},
   "outputs": [],
   "source": [
    "df = pd.read_pickle(\"lending_club_dataset.pickle\")\n",
    "current_directory = os.path.abspath(os.getcwd())\n",
    "file_path_file = os.path.join(current_directory, 'lending_club_dataset.pickle')\n",
    "file_df = pd.read_pickle(file_path_file)\n",
    "with open(\"lending_club_dataset.pickle\", 'rb') as file:\n",
    "    data, discrete_features, continuous_features = pickle.load(file)"
   ]
  },
  {
   "cell_type": "code",
   "execution_count": 81,
   "metadata": {},
   "outputs": [
    {
     "name": "stdout",
     "output_type": "stream",
     "text": [
      "Discrete features:\n",
      "['id', 'term', 'grade', 'emp_length', 'home_ownership', 'verification_status', 'issue_d', 'loan_status', 'purpose', 'earliest_cr_line', 'last_pymnt_d']\n",
      "\n",
      "Continuous features:\n",
      "['loan_amnt', 'funded_amnt', 'int_rate', 'installment', 'annual_inc', 'dti', 'delinq_2yrs', 'open_acc', 'pub_rec', 'fico_range_high', 'fico_range_low', 'revol_bal', 'revol_util', 'total_pymnt', 'recoveries', 'loan_length', 'term_num', 'ret_PESS', 'ret_OPT', 'ret_INTa', 'ret_INTb', 'ret_INTc']\n",
      "Categorical features:\n",
      "['id', 'term', 'grade', 'emp_length', 'home_ownership', 'verification_status', 'issue_d', 'loan_status', 'purpose', 'earliest_cr_line', 'last_pymnt_d']\n"
     ]
    }
   ],
   "source": [
    "# Get list of discrete and continuous features\n",
    "discrete_features = []\n",
    "continuous_features = []\n",
    "for column in data.columns:\n",
    "    if data[column].dtype == 'object':\n",
    "        discrete_features.append(column)\n",
    "    else:\n",
    "        continuous_features.append(column)\n",
    "# Print the lists of discrete and continuous features\n",
    "print(\"Discrete features:\")\n",
    "print(discrete_features)\n",
    "print(\"\\nContinuous features:\")\n",
    "print(continuous_features)\n",
    "\n",
    "# check for categorical features\n",
    "categorical_features = data.select_dtypes(include=['object']).columns.tolist()\n",
    "print(\"Categorical features:\")\n",
    "print(categorical_features)\n"
   ]
  },
  {
   "cell_type": "code",
   "execution_count": 82,
   "metadata": {},
   "outputs": [],
   "source": [
    "# outlier removal\n",
    "from scipy.stats.mstats import winsorize\n",
    "\n",
    "for col in ['annual_inc','revol_bal','total_pymnt']:\n",
    "    data[col+'_80w'] = winsorize(data[col], limits=[0.01,0.01])"
   ]
  },
  {
   "cell_type": "code",
   "execution_count": 83,
   "metadata": {},
   "outputs": [
    {
     "name": "stdout",
     "output_type": "stream",
     "text": [
      "Skewness of continuous features:\n",
      "loan_amnt           0.770649\n",
      "funded_amnt         0.770649\n",
      "int_rate            0.843090\n",
      "installment         1.009818\n",
      "annual_inc         46.908549\n",
      "dti                27.580258\n",
      "delinq_2yrs         5.599319\n",
      "open_acc            1.307943\n",
      "pub_rec            10.985939\n",
      "fico_range_high     1.326156\n",
      "fico_range_low      1.325937\n",
      "revol_bal          12.568662\n",
      "total_pymnt         1.015061\n",
      "recoveries          7.667488\n",
      "term_num            1.238446\n",
      "ret_PESS            1.792129\n",
      "ret_OPT             1.105593\n",
      "ret_INTa            1.641919\n",
      "ret_INTb            1.671982\n",
      "ret_INTc            1.706749\n",
      "dtype: float64\n"
     ]
    }
   ],
   "source": [
    "# check for skewness\n",
    "skewness = data[continuous_features].apply(lambda x: np.abs(x.skew()))\n",
    "print(\"Skewness of continuous features:\")\n",
    "print(skewness[skewness > 0.5])"
   ]
  },
  {
   "cell_type": "code",
   "execution_count": 84,
   "metadata": {},
   "outputs": [
    {
     "name": "stdout",
     "output_type": "stream",
     "text": [
      "Kurtosis of continuous features:\n",
      "annual_inc     4736.271659\n",
      "dti            2065.154845\n",
      "delinq_2yrs      59.051184\n",
      "open_acc          3.345881\n",
      "pub_rec         737.166907\n",
      "revol_bal       585.605446\n",
      "recoveries       97.653512\n",
      "dtype: float64\n"
     ]
    }
   ],
   "source": [
    "# check for kurtosis\n",
    "kurtosis = data[continuous_features].apply(lambda x: x.kurtosis())\n",
    "print(\"Kurtosis of continuous features:\")\n",
    "print(kurtosis[kurtosis > 3])"
   ]
  },
  {
   "cell_type": "code",
   "execution_count": 85,
   "metadata": {},
   "outputs": [],
   "source": [
    "# feature engineering\n",
    "for col in ['annual_inc','revol_bal','total_pymnt','loan_amnt']:\n",
    "    data[f'log1p_{col}'] = np.log1p(data[col])\n",
    "\n",
    "# a square-root transform for moderately skewed:\n",
    "data['sqrt_revol_util'] = np.sqrt(data['revol_util'])"
   ]
  },
  {
   "cell_type": "code",
   "execution_count": 86,
   "metadata": {},
   "outputs": [],
   "source": [
    "# treat date columns\n",
    "\n",
    "data['credit_age_yrs'] = (\n",
    "    pd.to_datetime(data.issue_d) \n",
    "    - pd.to_datetime(data.earliest_cr_line)\n",
    ").dt.days / 365.25\n",
    "\n",
    "# filter out negatives \n",
    "data = data[data.credit_age_yrs >= 0]\n"
   ]
  },
  {
   "cell_type": "code",
   "execution_count": 87,
   "metadata": {},
   "outputs": [],
   "source": [
    "\n",
    "# for small-count features that still skew:\n",
    "data['sqrt_pub_rec']    = np.sqrt(data['pub_rec'])\n",
    "data['sqrt_delinq_2yrs']= np.sqrt(data['delinq_2yrs'])\n",
    "data['has_recovery'] = (data['recoveries'] > 0).astype(int)\n",
    "data['log1p_recoveries'] = np.log1p(data['recoveries'])\n",
    "data['delinq_bin'] = pd.cut(\n",
    "    data['delinq_2yrs'],\n",
    "    bins=[-1,0,1,3, np.inf],\n",
    "    labels=['none','one','2–3','4+']\n",
    ")\n",
    "data = pd.get_dummies(data, columns=['delinq_bin'], drop_first=True)"
   ]
  },
  {
   "cell_type": "code",
   "execution_count": 88,
   "metadata": {},
   "outputs": [],
   "source": [
    "# drop leaky features\n",
    "drop_cols = ['ret_PESS', 'ret_OPT', 'ret_INTa','ret_INTb','ret_INTc','issue_d','earliest_cr_line','last_pymnt_d','id','fico_range_high']\n",
    "data.drop(columns=drop_cols, inplace=True)"
   ]
  },
  {
   "cell_type": "code",
   "execution_count": 89,
   "metadata": {},
   "outputs": [
    {
     "name": "stdout",
     "output_type": "stream",
     "text": [
      "Encoding these cats: ['term', 'grade', 'emp_length', 'home_ownership', 'verification_status', 'loan_status', 'purpose']\n"
     ]
    }
   ],
   "source": [
    "\n",
    "categorical_features = [\n",
    "    col for col in categorical_features \n",
    "    if col in data.columns\n",
    "]\n",
    "print(\"Encoding these cats:\", categorical_features)"
   ]
  },
  {
   "cell_type": "code",
   "execution_count": 90,
   "metadata": {},
   "outputs": [
    {
     "name": "stdout",
     "output_type": "stream",
     "text": [
      "Encoding these cats now: ['term', 'grade', 'emp_length', 'home_ownership', 'verification_status', 'loan_status', 'purpose']\n"
     ]
    }
   ],
   "source": [
    "\n",
    "# After all your drops, re-derive the categorical columns\n",
    "categorical_features = [\n",
    "    col for col in ['term', 'grade', 'emp_length', 'home_ownership',\n",
    "                    'verification_status', 'loan_status', 'purpose']\n",
    "    if col in data.columns\n",
    "]\n",
    "\n",
    "print(\"Encoding these cats now:\", categorical_features)\n",
    "\n"
   ]
  },
  {
   "cell_type": "code",
   "execution_count": 91,
   "metadata": {},
   "outputs": [],
   "source": [
    "from sklearn.preprocessing import OneHotEncoder\n",
    "\n",
    "# 1) Instantiate with dense output\n",
    "ohe = OneHotEncoder(drop='first', sparse_output=False)\n",
    "\n",
    "# 2) Fit & transform only the columns that exist now\n",
    "dense_cat = ohe.fit_transform(data[categorical_features])\n",
    "\n",
    "# 3) Grab the new one-hot names\n",
    "cat_cols = ohe.get_feature_names_out(categorical_features)\n",
    "\n",
    "# 4) Build a dense DataFrame of those dummies\n",
    "cat_df = pd.DataFrame(dense_cat, index=data.index, columns=cat_cols)\n",
    "\n",
    "# 5) Drop the original cat columns and concat the new one-hots\n",
    "data = pd.concat([\n",
    "    data.drop(columns=categorical_features),\n",
    "    cat_df\n",
    "], axis=1)\n"
   ]
  },
  {
   "cell_type": "code",
   "execution_count": 92,
   "metadata": {},
   "outputs": [],
   "source": [
    "# Drop one of the dummy variables for each categorical feature\n",
    "data = data.drop(columns=[\n",
    "    'home_ownership_RENT',\n",
    "    'grade_G',\n",
    "    'emp_length_10+ years',\n",
    "    'purpose_wedding',\n",
    "    'verification_status_Verified',\n",
    "   \n",
    "\n",
    "])"
   ]
  },
  {
   "cell_type": "code",
   "execution_count": 93,
   "metadata": {},
   "outputs": [],
   "source": [
    "# define return\n",
    "data['raw_roi'] = (data['total_pymnt'] + data['recoveries'])/data['loan_amnt'] - 1\n",
    "data['ann_roi'] = data['raw_roi'] / (data['term_num']/12)\n",
    "data['log_return'] = np.log1p(data['ann_roi'])            \n"
   ]
  },
  {
   "cell_type": "code",
   "execution_count": 94,
   "metadata": {},
   "outputs": [],
   "source": [
    "data['custom_return']= data['log_return']"
   ]
  },
  {
   "cell_type": "code",
   "execution_count": 95,
   "metadata": {},
   "outputs": [],
   "source": [
    "target_col = 'custom_return'\n",
    "cat_cols = ['term', 'grade', 'emp_length', 'home_ownership', 'verification_status', 'loan_status', 'purpose']\n",
    "num_cols = [col for col in data.columns if col not in cat_cols + [target_col]]"
   ]
  },
  {
   "cell_type": "code",
   "execution_count": 96,
   "metadata": {},
   "outputs": [
    {
     "data": {
      "text/plain": [
       "count    603883.000000\n",
       "mean          0.006871\n",
       "std           0.082572\n",
       "min          -0.404965\n",
       "25%           0.010563\n",
       "50%           0.032390\n",
       "75%           0.050964\n",
       "max           0.341100\n",
       "Name: custom_return, dtype: float64"
      ]
     },
     "execution_count": 96,
     "metadata": {},
     "output_type": "execute_result"
    }
   ],
   "source": [
    "data['custom_return'].describe()"
   ]
  },
  {
   "cell_type": "code",
   "execution_count": 97,
   "metadata": {},
   "outputs": [
    {
     "data": {
      "image/png": "[encoded data removed]",
      "text/plain": [
       "<Figure size 1000x600 with 1 Axes>"
      ]
     },
     "metadata": {},
     "output_type": "display_data"
    }
   ],
   "source": [
    "import matplotlib.pyplot as plt\n",
    "import seaborn as sns\n",
    "plt.figure(figsize=(10, 6))\n",
    "sns.histplot(data['custom_return'], bins=50, kde=True)\n",
    "plt.show()\n"
   ]
  },
  {
   "cell_type": "code",
   "execution_count": 98,
   "metadata": {},
   "outputs": [
    {
     "name": "stdout",
     "output_type": "stream",
     "text": [
      "Correlation with custom return:\n",
      "loan_status_Fully Paid    0.802470\n",
      "log1p_total_pymnt         0.506485\n",
      "loan_length               0.462157\n",
      "total_pymnt               0.373475\n",
      "total_pymnt_80w           0.373189\n",
      "                            ...   \n",
      "term_ 60 months          -0.101612\n",
      "int_rate                 -0.135126\n",
      "recoveries               -0.233317\n",
      "log1p_recoveries         -0.499436\n",
      "has_recovery             -0.519702\n",
      "Length: 66, dtype: float64\n"
     ]
    }
   ],
   "source": [
    "features = data.drop(columns=['custom_return','log_return','raw_roi','ann_roi'])\n",
    "# find correlation with custom return except custom return  \n",
    "correlation = features.corrwith(data['custom_return'])\n",
    "# sort the correlation values\n",
    "correlation = correlation.sort_values(ascending=False)\n",
    "print(\"Correlation with custom return:\")\n",
    "print(correlation)\n",
    "\n"
   ]
  },
  {
   "cell_type": "code",
   "execution_count": 99,
   "metadata": {},
   "outputs": [],
   "source": [
    "data = data.drop(columns=['total_pymnt','recoveries',\n",
    "  'log1p_total_pymnt','total_pymnt_80w',\n",
    "  'raw_roi','ann_roi','log_return',\n",
    "  'loan_status_Fully Paid','loan_status_Default','funded_amnt'])"
   ]
  },
  {
   "cell_type": "code",
   "execution_count": 100,
   "metadata": {},
   "outputs": [
    {
     "name": "stdout",
     "output_type": "stream",
     "text": [
      "Top 40 features: ['loan_amnt', 'int_rate', 'installment', 'annual_inc', 'dti', 'open_acc', 'pub_rec', 'fico_range_low', 'revol_bal', 'revol_util', 'loan_length', 'term_num', 'annual_inc_80w', 'revol_bal_80w', 'log1p_annual_inc', 'log1p_revol_bal', 'log1p_loan_amnt', 'sqrt_revol_util', 'credit_age_yrs', 'sqrt_pub_rec', 'has_recovery', 'log1p_recoveries', 'term_ 60 months', 'grade_B', 'grade_C', 'grade_D', 'grade_E', 'grade_F', 'emp_length_8 years', 'emp_length_< 1 year', 'emp_length_None', 'home_ownership_MORTGAGE', 'home_ownership_OWN', 'purpose_credit_card', 'purpose_debt_consolidation', 'purpose_house', 'purpose_major_purchase', 'purpose_medical', 'purpose_moving', 'purpose_small_business']\n"
     ]
    }
   ],
   "source": [
    "from sklearn.feature_selection import SelectKBest, f_regression\n",
    "\n",
    "X = data.drop(columns='custom_return')\n",
    "y = data['custom_return']\n",
    "\n",
    "selector = SelectKBest(f_regression, k=40)\n",
    "X_new = selector.fit_transform(X, y)\n",
    "selected = X.columns[selector.get_support()]\n",
    "print(\"Top 40 features:\", selected.tolist())\n",
    "# then rebuild X = X[selected]\n",
    "X = X[selected]"
   ]
  },
  {
   "cell_type": "code",
   "execution_count": 101,
   "metadata": {},
   "outputs": [],
   "source": [
    "from sklearn.model_selection import train_test_split\n",
    "from sklearn.preprocessing import StandardScaler\n",
    "\n",
    "# Split into training and testing\n",
    "X_train, X_test, y_train, y_test = train_test_split(\n",
    "    X, y, test_size=0.2, random_state=42\n",
    ")\n",
    "\n",
    "# Scale features (standardization)\n",
    "scaler = StandardScaler()\n",
    "X_train_scaled = scaler.fit_transform(X_train)\n",
    "X_test_scaled = scaler.transform(X_test)\n"
   ]
  },
  {
   "cell_type": "code",
   "execution_count": 102,
   "metadata": {},
   "outputs": [
    {
     "name": "stdout",
     "output_type": "stream",
     "text": [
      "Numerical features:\n",
      "Index(['loan_amnt', 'int_rate', 'installment', 'annual_inc', 'dti', 'open_acc',\n",
      "       'pub_rec', 'fico_range_low', 'revol_bal', 'revol_util', 'loan_length',\n",
      "       'annual_inc_80w', 'revol_bal_80w', 'log1p_annual_inc',\n",
      "       'log1p_revol_bal', 'log1p_loan_amnt', 'sqrt_revol_util',\n",
      "       'credit_age_yrs', 'sqrt_pub_rec', 'has_recovery', 'log1p_recoveries',\n",
      "       'term_ 60 months', 'grade_B', 'grade_C', 'grade_D', 'grade_E',\n",
      "       'grade_F', 'emp_length_8 years', 'emp_length_< 1 year',\n",
      "       'emp_length_None', 'home_ownership_MORTGAGE', 'home_ownership_OWN',\n",
      "       'purpose_credit_card', 'purpose_debt_consolidation', 'purpose_house',\n",
      "       'purpose_major_purchase', 'purpose_medical', 'purpose_moving',\n",
      "       'purpose_small_business'],\n",
      "      dtype='object')\n",
      "Categorical features:\n",
      "Index([], dtype='object')\n",
      "Original columns:\n",
      "['loan_amnt', 'int_rate', 'installment', 'annual_inc', 'dti', 'open_acc', 'pub_rec', 'fico_range_low', 'revol_bal', 'revol_util', 'loan_length', 'term_num', 'annual_inc_80w', 'revol_bal_80w', 'log1p_annual_inc', 'log1p_revol_bal', 'log1p_loan_amnt', 'sqrt_revol_util', 'credit_age_yrs', 'sqrt_pub_rec', 'has_recovery', 'log1p_recoveries', 'term_ 60 months', 'grade_B', 'grade_C', 'grade_D', 'grade_E', 'grade_F', 'emp_length_8 years', 'emp_length_< 1 year', 'emp_length_None', 'home_ownership_MORTGAGE', 'home_ownership_OWN', 'purpose_credit_card', 'purpose_debt_consolidation', 'purpose_house', 'purpose_major_purchase', 'purpose_medical', 'purpose_moving', 'purpose_small_business']\n"
     ]
    }
   ],
   "source": [
    "numerical = X_train.select_dtypes(include=['int64', 'float64']).columns\n",
    "categorical = X_train.select_dtypes(include=['object']).columns\n",
    "print(\"Numerical features:\")\n",
    "print(numerical)\n",
    "print(\"Categorical features:\")\n",
    "print(categorical)\n",
    "original_columns = X_train.columns.tolist()\n",
    "print(\"Original columns:\")\n",
    "print(original_columns)"
   ]
  },
  {
   "cell_type": "code",
   "execution_count": 110,
   "metadata": {},
   "outputs": [
    {
     "name": "stdout",
     "output_type": "stream",
     "text": [
      "Fitting 2 folds for each of 10 candidates, totalling 20 fits\n",
      "Best params: {'model__n_estimators': 50, 'model__min_samples_leaf': 5, 'model__max_features': 'sqrt', 'model__max_depth': 20}\n",
      "Test  MSE: 0.0031532116687971496\n",
      "Test  R² : 0.5356168181137906\n"
     ]
    }
   ],
   "source": [
    "from sklearn.model_selection import train_test_split, RandomizedSearchCV\n",
    "from sklearn.pipeline import Pipeline\n",
    "from sklearn.compose import ColumnTransformer\n",
    "from sklearn.preprocessing import StandardScaler, OneHotEncoder\n",
    "from sklearn.ensemble import RandomForestRegressor\n",
    "\n",
    "# 1) Subsample a 20% slice for hyperparameter tuning\n",
    "X_tune, _, y_tune, _ = train_test_split(\n",
    "    X_train, y_train,\n",
    "    train_size=0.2,\n",
    "    random_state=42\n",
    ")\n",
    "\n",
    "# 2) Preprocessor (unchanged)\n",
    "numeric_feats   = X_train.select_dtypes(include=['int64','float64']).columns.tolist()\n",
    "categorical_feats = X_train.select_dtypes(include=['object','category']).columns.tolist()\n",
    "\n",
    "preprocessor = ColumnTransformer([\n",
    "    (\"num\", StandardScaler(), numeric_feats),\n",
    "    (\"cat\", OneHotEncoder(drop='first', sparse_output=False), categorical_feats),\n",
    "])\n",
    "\n",
    "# 3) Pipeline with caching and a max_samples to speed up each RF\n",
    "pipe = Pipeline([\n",
    "    (\"preproc\", preprocessor),\n",
    "    (\"model\", RandomForestRegressor(\n",
    "        random_state=42,\n",
    "        max_samples=0.5  # each tree sees only 50% of the data\n",
    "    )),\n",
    "], memory=\"rf_cache\")  # caches transformed X across CV folds\n",
    "\n",
    "# 4) Smaller grid / randomized search on the slice\n",
    "param_dist = {\n",
    "    \"model__n_estimators\":     [50, 100],\n",
    "    \"model__max_depth\":        [5, 10, 20],\n",
    "    \"model__min_samples_leaf\": [1, 5],\n",
    "    \"model__max_features\":     [\"sqrt\", \"log2\"],\n",
    "}\n",
    "\n",
    "search = RandomizedSearchCV(\n",
    "    pipe,\n",
    "    param_distributions=param_dist,\n",
    "    cv=2,               # only 2-fold CV\n",
    "    n_iter=10,          # just 10 random combos\n",
    "    scoring=\"neg_mean_squared_error\",\n",
    "    n_jobs=-1,\n",
    "    random_state=42,\n",
    "    verbose=1\n",
    ")\n",
    "\n",
    "# 5) Tune on the 20%-slice (this will be much faster)\n",
    "search.fit(X_tune, y_tune)\n",
    "print(\"Best params:\", search.best_params_)\n",
    "\n",
    "# 6) Refit the best pipeline on the **full** training set\n",
    "best_pipe = search.best_estimator_\n",
    "best_pipe.fit(X_train, y_train)\n",
    "\n",
    "# 7) Evaluate on the held-out test set\n",
    "from sklearn.metrics import mean_squared_error, r2_score\n",
    "preds = best_pipe.predict(X_test)\n",
    "print(\"Test  MSE:\", mean_squared_error(y_test, preds))\n",
    "print(\"Test  R² :\", r2_score(y_test, preds))\n"
   ]
  },
  {
   "cell_type": "code",
   "execution_count": 112,
   "metadata": {},
   "outputs": [
    {
     "name": "stdout",
     "output_type": "stream",
     "text": [
      "Top 50 RF — Pred: 0.1064, Actual: 0.1220\n",
      "Top 100 RF — Pred: 0.1029, Actual: 0.1177\n",
      "Top 200 RF — Pred: 0.0995, Actual: 0.1118\n"
     ]
    }
   ],
   "source": [
    "def top_n_backtest(y_true, y_pred, N):\n",
    "    idx = np.argsort(y_pred)[-N:]\n",
    "    return y_pred[idx].mean(), y_true.to_numpy()[idx].mean()\n",
    "\n",
    "for N in [50, 100, 200]:\n",
    "    p, a = top_n_backtest(y_test, preds, N)\n",
    "    print(f\"Top {N} RF — Pred: {p:.4f}, Actual: {a:.4f}\")\n"
   ]
  },
  {
   "cell_type": "code",
   "execution_count": 113,
   "metadata": {},
   "outputs": [
    {
     "name": "stdout",
     "output_type": "stream",
     "text": [
      "     RF Top-N  Random Top-N\n",
      "50   0.121962      0.017064\n",
      "100  0.117660      0.006767\n",
      "200  0.111810      0.012874\n"
     ]
    },
    {
     "data": {
      "image/png": "[encoded data removed]",
      "text/plain": [
       "<Figure size 600x400 with 1 Axes>"
      ]
     },
     "metadata": {},
     "output_type": "display_data"
    },
    {
     "data": {
      "image/png": "[encoded data removed]",
      "text/plain": [
       "<Figure size 400x400 with 1 Axes>"
      ]
     },
     "metadata": {},
     "output_type": "display_data"
    },
    {
     "data": {
      "image/png": "[encoded data removed]",
      "text/plain": [
       "<Figure size 600x400 with 1 Axes>"
      ]
     },
     "metadata": {},
     "output_type": "display_data"
    }
   ],
   "source": [
    "import numpy as np\n",
    "import pandas as pd\n",
    "import matplotlib.pyplot as plt\n",
    "\n",
    "# assume preds = best_pipe.predict(X_test) and y_test exist\n",
    "preds_rf = best_pipe.predict(X_test)\n",
    "y_arr    = y_test.to_numpy()\n",
    "\n",
    "# 1) Random‐pick baseline\n",
    "rng = np.random.default_rng(42)\n",
    "random_returns = {}\n",
    "for N in [50, 100, 200]:\n",
    "    idx = rng.choice(len(y_arr), size=N, replace=False)\n",
    "    random_returns[N] = y_arr[idx].mean()\n",
    "\n",
    "# 2) Compute RF Top-N returns\n",
    "rf_returns = {}\n",
    "for N in [50, 100, 200]:\n",
    "    idx = np.argsort(preds_rf)[-N:]\n",
    "    rf_returns[N] = y_arr[idx].mean()\n",
    "\n",
    "# 3) Build comparison DataFrame\n",
    "df = pd.DataFrame({\n",
    "    'RF Top-N': pd.Series(rf_returns),\n",
    "    'Random Top-N': pd.Series(random_returns)\n",
    "})\n",
    "print(df)\n",
    "\n",
    "# 4) Plot Avg Actual Return vs. N\n",
    "plt.figure(figsize=(6,4))\n",
    "plt.plot(df.index, df['RF Top-N'], marker='o', label='RF')\n",
    "plt.plot(df.index, df['Random Top-N'], marker='o', label='Random')\n",
    "plt.xlabel('Portfolio size N')\n",
    "plt.ylabel('Avg Actual Return')\n",
    "plt.title('RF vs. Random: Avg Return by N')\n",
    "plt.legend()\n",
    "plt.grid(True)\n",
    "plt.show()\n",
    "\n",
    "# 5) Bar chart at N=100\n",
    "plt.figure(figsize=(4,4))\n",
    "bars = [df.loc[100, 'RF Top-N'], df.loc[100, 'Random Top-N']]\n",
    "plt.bar(['RF Top 100','Random Top 100'], bars)\n",
    "plt.ylabel('Avg Actual Return')\n",
    "plt.title('Top 100 Portfolio Comparison')\n",
    "plt.show()\n",
    "\n",
    "# 6) Distribution overlay\n",
    "plt.figure(figsize=(6,4))\n",
    "plt.hist(y_arr,   bins=30, alpha=0.5, label='Actual Returns')\n",
    "plt.hist(preds_rf, bins=30, alpha=0.5, label='RF Predictions')\n",
    "plt.xlabel('Return')\n",
    "plt.ylabel('Count')\n",
    "plt.title('Predicted vs. Actual Return Distribution')\n",
    "plt.legend()\n",
    "plt.show()\n"
   ]
  },
  {
   "cell_type": "code",
   "execution_count": null,
   "metadata": {},
   "outputs": [],
   "source": [
    "import numpy as np\n",
    "# plot return of model, actual return, and random strategy for top 100 loans\n",
    "# Data\n",
    "labels = [\n",
    "    \"Predicted (Top 1000)\",\n",
    "    \"Random (Top 1000)\",\n",
    "    \"Predicted (Top 500)\",\n",
    "    \"Random (Top 500)\",\n",
    "    \"Predicted (Top 300)\",\n",
    "    \"Random (Top 500)\"\n",
    "]\n",
    "mean_error_1000 = 0.0277\n",
    "std_dev_1000 = 0.0089\n",
    "mean_error_500 = 0.0257\n",
    "std_dev_500 = 0.0114\n",
    "mean_error_300 = 0.0267\n",
    "std_dev_300 = 0.0151\n",
    "# Calculate averages for predicted returns for top loans\n",
    "N_1000 = 1000\n",
    "N_500 = 500\n",
    "N_300 = 300\n",
    "\n",
    "idx_pred_1000 = np.argsort(preds)[-N_1000:]\n",
    "pred_top_1000 = preds[idx_pred_1000].mean()\n",
    "\n",
    "idx_pred_500 = np.argsort(preds)[-N_500:]\n",
    "pred_top_500 = preds[idx_pred_500].mean()\n",
    "\n",
    "idx_pred_300 = np.argsort(preds)[-N_300:]\n",
    "pred_top_300 = preds[idx_pred_300].mean()\n",
    "\n",
    "predicted_mean_error_1000 = np.abs(y_arr[idx_pred_1000] - preds[idx_pred_1000]).mean()\n",
    "predicted_mean_error_500 = np.abs(y_arr[idx_pred_500] - preds[idx_pred_500]).mean()\n",
    "predicted_mean_error_300 = np.abs(y_arr[idx_pred_300] - preds[idx_pred_300]).mean()\n",
    "values = [\n",
    "    predicted_mean_error_1000,\n",
    "    mean_error_1000,\n",
    "    predicted_mean_error_500,\n",
    "    mean_error_500,\n",
    "    predicted_mean_error_300,\n",
    "    mean_error_300\n",
    "]\n",
    "# Set the style\n",
    "sns.set(style=\"whitegrid\")\n",
    "# Set the color palette\n",
    "sns.set_palette(\"pastel\")\n",
    "# Create a bar plot\n",
    "plt.figure(figsize=(10, 6))\n",
    "sns.barplot(x=labels, y=values)\n",
    "# Add titles and labels\n",
    "plt.title(\"Average Returns Comparison\")\n",
    "plt.ylabel(\"Average Return\")\n",
    "plt.xlabel(\"Strategy\")\n",
    "# Show the plot\n",
    "plt.xticks(rotation=45)\n",
    "plt.tight_layout()\n",
    "plt.show()\n",
    "\n"
   ]
  }
 ],
 "metadata": {
  "kernelspec": {
   "display_name": "Python 3",
   "language": "python",
   "name": "python3"
  },
  "language_info": {
   "codemirror_mode": {
    "name": "ipython",
    "version": 3
   },
   "file_extension": ".py",
   "mimetype": "text/x-python",
   "name": "python",
   "nbconvert_exporter": "python",
   "pygments_lexer": "ipython3",
   "version": "3.11.5"
  }
 },
 "nbformat": 4,
 "nbformat_minor": 2
}
