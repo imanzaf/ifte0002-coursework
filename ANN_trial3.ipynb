{
 "cells": [
  {
   "cell_type": "code",
   "execution_count": 1,
   "metadata": {},
   "outputs": [],
   "source": [
    "import pandas as pd\n",
    "import numpy as np\n",
    "import os\n",
    "import sys\n",
    "import tensorflow as tf\n",
    "import pickle\n",
    "import re\n"
   ]
  },
  {
   "cell_type": "code",
   "execution_count": 2,
   "metadata": {},
   "outputs": [],
   "source": [
    "df = pd.read_pickle(\"lending_club_dataset.pickle\")\n",
    "current_directory = os.path.abspath(os.getcwd())\n",
    "file_path_file = os.path.join(current_directory, 'lending_club_dataset.pickle')\n",
    "file_df = pd.read_pickle(file_path_file)\n",
    "with open(\"lending_club_dataset.pickle\", 'rb') as file:\n",
    "    data, discrete_features, continuous_features = pickle.load(file)"
   ]
  },
  {
   "cell_type": "code",
   "execution_count": 3,
   "metadata": {},
   "outputs": [
    {
     "name": "stdout",
     "output_type": "stream",
     "text": [
      "Discrete features:\n",
      "['id', 'term', 'grade', 'emp_length', 'home_ownership', 'verification_status', 'issue_d', 'loan_status', 'purpose', 'earliest_cr_line', 'last_pymnt_d']\n",
      "\n",
      "Continuous features:\n",
      "['loan_amnt', 'funded_amnt', 'int_rate', 'installment', 'annual_inc', 'dti', 'delinq_2yrs', 'open_acc', 'pub_rec', 'fico_range_high', 'fico_range_low', 'revol_bal', 'revol_util', 'total_pymnt', 'recoveries', 'loan_length', 'term_num', 'ret_PESS', 'ret_OPT', 'ret_INTa', 'ret_INTb', 'ret_INTc']\n",
      "Categorical features:\n",
      "['id', 'term', 'grade', 'emp_length', 'home_ownership', 'verification_status', 'issue_d', 'loan_status', 'purpose', 'earliest_cr_line', 'last_pymnt_d']\n"
     ]
    }
   ],
   "source": [
    "# Get list of discrete and continuous features\n",
    "discrete_features = []\n",
    "continuous_features = []\n",
    "for column in data.columns:\n",
    "    if data[column].dtype == 'object':\n",
    "        discrete_features.append(column)\n",
    "    else:\n",
    "        continuous_features.append(column)\n",
    "# Print the lists of discrete and continuous features\n",
    "print(\"Discrete features:\")\n",
    "print(discrete_features)\n",
    "print(\"\\nContinuous features:\")\n",
    "print(continuous_features)\n",
    "\n",
    "# check for categorical features\n",
    "categorical_features = data.select_dtypes(include=['object']).columns.tolist()\n",
    "print(\"Categorical features:\")\n",
    "print(categorical_features)\n"
   ]
  },
  {
   "cell_type": "code",
   "execution_count": 4,
   "metadata": {},
   "outputs": [],
   "source": [
    "from scipy.stats.mstats import winsorize\n",
    "\n",
    "for col in ['annual_inc','revol_bal','total_pymnt']:\n",
    "    data[col+'_80w'] = winsorize(data[col], limits=[0.01,0.01])\n"
   ]
  },
  {
   "cell_type": "code",
   "execution_count": 5,
   "metadata": {},
   "outputs": [
    {
     "name": "stdout",
     "output_type": "stream",
     "text": [
      "Skewness of continuous features:\n",
      "loan_amnt           0.770649\n",
      "funded_amnt         0.770649\n",
      "int_rate            0.843090\n",
      "installment         1.009818\n",
      "annual_inc         46.908549\n",
      "dti                27.580258\n",
      "delinq_2yrs         5.599319\n",
      "open_acc            1.307943\n",
      "pub_rec            10.985939\n",
      "fico_range_high     1.326156\n",
      "fico_range_low      1.325937\n",
      "revol_bal          12.568662\n",
      "total_pymnt         1.015061\n",
      "recoveries          7.667488\n",
      "term_num            1.238446\n",
      "ret_PESS            1.792129\n",
      "ret_OPT             1.105593\n",
      "ret_INTa            1.641919\n",
      "ret_INTb            1.671982\n",
      "ret_INTc            1.706749\n",
      "dtype: float64\n"
     ]
    }
   ],
   "source": [
    "# check for skewness\n",
    "skewness = data[continuous_features].apply(lambda x: np.abs(x.skew()))\n",
    "print(\"Skewness of continuous features:\")\n",
    "print(skewness[skewness > 0.5])"
   ]
  },
  {
   "cell_type": "code",
   "execution_count": 6,
   "metadata": {},
   "outputs": [
    {
     "name": "stdout",
     "output_type": "stream",
     "text": [
      "Kurtosis of continuous features:\n",
      "annual_inc     4736.271659\n",
      "dti            2065.154845\n",
      "delinq_2yrs      59.051184\n",
      "open_acc          3.345881\n",
      "pub_rec         737.166907\n",
      "revol_bal       585.605446\n",
      "recoveries       97.653512\n",
      "dtype: float64\n"
     ]
    }
   ],
   "source": [
    "# check for kurtosis\n",
    "kurtosis = data[continuous_features].apply(lambda x: x.kurtosis())\n",
    "print(\"Kurtosis of continuous features:\")\n",
    "print(kurtosis[kurtosis > 3])"
   ]
  },
  {
   "cell_type": "code",
   "execution_count": 242,
   "metadata": {},
   "outputs": [],
   "source": []
  },
  {
   "cell_type": "code",
   "execution_count": 7,
   "metadata": {},
   "outputs": [],
   "source": [
    "# feature engineering\n",
    "for col in ['annual_inc','revol_bal','total_pymnt','loan_amnt']:\n",
    "    data[f'log1p_{col}'] = np.log1p(data[col])\n",
    "\n",
    "# a square-root transform for moderately skewed:\n",
    "data['sqrt_revol_util'] = np.sqrt(data['revol_util'])\n"
   ]
  },
  {
   "cell_type": "code",
   "execution_count": 8,
   "metadata": {},
   "outputs": [],
   "source": [
    "# treat date columns\n",
    "\n",
    "data['credit_age_yrs'] = (\n",
    "    pd.to_datetime(data.issue_d) \n",
    "    - pd.to_datetime(data.earliest_cr_line)\n",
    ").dt.days / 365.25\n",
    "\n",
    "# filter out negatives \n",
    "data = data[data.credit_age_yrs >= 0]\n",
    "\n"
   ]
  },
  {
   "cell_type": "code",
   "execution_count": 9,
   "metadata": {},
   "outputs": [],
   "source": [
    "\n",
    "# for small-count features that still skew:\n",
    "data['sqrt_pub_rec']    = np.sqrt(data['pub_rec'])\n",
    "data['sqrt_delinq_2yrs']= np.sqrt(data['delinq_2yrs'])\n",
    "data['has_recovery'] = (data['recoveries'] > 0).astype(int)\n",
    "data['log1p_recoveries'] = np.log1p(data['recoveries'])\n",
    "data['delinq_bin'] = pd.cut(\n",
    "    data['delinq_2yrs'],\n",
    "    bins=[-1,0,1,3, np.inf],\n",
    "    labels=['none','one','2–3','4+']\n",
    ")\n",
    "data = pd.get_dummies(data, columns=['delinq_bin'], drop_first=True)\n"
   ]
  },
  {
   "cell_type": "code",
   "execution_count": 10,
   "metadata": {},
   "outputs": [],
   "source": [
    "data['loan_to_inc']      = data['loan_amnt'] / data['annual_inc']\n",
    "data['payment_to_inc']   = data['installment'] / data['annual_inc']\n",
    "data['dti_times_rate']   = data['dti'] * data['int_rate']\n",
    "data['fico_avg']         = (data['fico_range_low'] + data['fico_range_high']) / 2\n"
   ]
  },
  {
   "cell_type": "code",
   "execution_count": 12,
   "metadata": {},
   "outputs": [],
   "source": [
    "from sklearn.cluster import KMeans\n",
    "\n",
    "num_feats = ['log1p_annual_inc','dti','fico_avg','loan_to_inc']\n",
    "km = KMeans(n_clusters=10, random_state=42).fit(data[num_feats])\n",
    "data['cluster_id'] = km.labels_\n",
    "# then one-hot encode cluster_id\n",
    "data = pd.get_dummies(data, columns=['cluster_id'], drop_first=True)\n"
   ]
  },
  {
   "cell_type": "code",
   "execution_count": 13,
   "metadata": {},
   "outputs": [],
   "source": [
    "from sklearn.decomposition import PCA\n",
    "pca = PCA(4).fit(data[num_feats])\n",
    "pcs = pca.transform(data[num_feats])\n",
    "for i in range(4):\n",
    "    data[f'pc{i+1}'] = pcs[:,i]\n"
   ]
  },
  {
   "cell_type": "code",
   "execution_count": 14,
   "metadata": {},
   "outputs": [],
   "source": [
    "# drop leaky features\n",
    "drop_cols = ['ret_PESS', 'ret_OPT', 'ret_INTa','ret_INTb','ret_INTc','issue_d','earliest_cr_line','last_pymnt_d','id']\n",
    "data.drop(columns=drop_cols, inplace=True)"
   ]
  },
  {
   "cell_type": "code",
   "execution_count": 15,
   "metadata": {},
   "outputs": [
    {
     "name": "stdout",
     "output_type": "stream",
     "text": [
      "Encoding these cats: ['term', 'grade', 'emp_length', 'home_ownership', 'verification_status', 'loan_status', 'purpose']\n"
     ]
    }
   ],
   "source": [
    "\n",
    "categorical_features = [\n",
    "    col for col in categorical_features \n",
    "    if col in data.columns\n",
    "]\n",
    "print(\"Encoding these cats:\", categorical_features)\n"
   ]
  },
  {
   "cell_type": "code",
   "execution_count": 16,
   "metadata": {},
   "outputs": [],
   "source": [
    "from sklearn.preprocessing import OneHotEncoder\n",
    "\n",
    "ohe = OneHotEncoder(drop='first')\n",
    "sparse_cat = ohe.fit_transform(data[categorical_features])\n",
    "cat_cols   = ohe.get_feature_names_out(categorical_features)\n",
    "\n",
    "# build a sparse DataFrame\n",
    "import scipy\n",
    "sparse_df = pd.DataFrame.sparse.from_spmatrix(\n",
    "    sparse_cat, index=data.index, columns=cat_cols\n",
    ")\n",
    "\n",
    "# drop the originals and concat\n",
    "data = pd.concat([\n",
    "    data.drop(columns=categorical_features),\n",
    "    sparse_df\n",
    "], axis=1)\n"
   ]
  },
  {
   "cell_type": "code",
   "execution_count": 17,
   "metadata": {},
   "outputs": [
    {
     "data": {
      "text/plain": [
       "Index(['loan_amnt', 'funded_amnt', 'int_rate', 'installment', 'annual_inc',\n",
       "       'dti', 'delinq_2yrs', 'open_acc', 'pub_rec', 'fico_range_high',\n",
       "       'fico_range_low', 'revol_bal', 'revol_util', 'total_pymnt',\n",
       "       'recoveries', 'loan_length', 'term_num', 'annual_inc_80w',\n",
       "       'revol_bal_80w', 'total_pymnt_80w', 'log1p_annual_inc',\n",
       "       'log1p_revol_bal', 'log1p_total_pymnt', 'log1p_loan_amnt',\n",
       "       'sqrt_revol_util', 'credit_age_yrs', 'sqrt_pub_rec', 'sqrt_delinq_2yrs',\n",
       "       'has_recovery', 'log1p_recoveries', 'delinq_bin_one', 'delinq_bin_2–3',\n",
       "       'delinq_bin_4+', 'loan_to_inc', 'payment_to_inc', 'dti_times_rate',\n",
       "       'fico_avg', 'cluster_id_1', 'cluster_id_2', 'cluster_id_3',\n",
       "       'cluster_id_4', 'cluster_id_5', 'cluster_id_6', 'cluster_id_7',\n",
       "       'cluster_id_8', 'cluster_id_9', 'pc1', 'pc2', 'pc3', 'pc4',\n",
       "       'term_ 60 months', 'grade_B', 'grade_C', 'grade_D', 'grade_E',\n",
       "       'grade_F', 'grade_G', 'emp_length_10+ years', 'emp_length_2 years',\n",
       "       'emp_length_3 years', 'emp_length_4 years', 'emp_length_5 years',\n",
       "       'emp_length_6 years', 'emp_length_7 years', 'emp_length_8 years',\n",
       "       'emp_length_9 years', 'emp_length_< 1 year', 'emp_length_None',\n",
       "       'home_ownership_MORTGAGE', 'home_ownership_NONE', 'home_ownership_OWN',\n",
       "       'home_ownership_RENT', 'verification_status_Source Verified',\n",
       "       'verification_status_Verified', 'loan_status_Default',\n",
       "       'loan_status_Fully Paid', 'purpose_credit_card',\n",
       "       'purpose_debt_consolidation', 'purpose_educational',\n",
       "       'purpose_home_improvement', 'purpose_house', 'purpose_major_purchase',\n",
       "       'purpose_medical', 'purpose_moving', 'purpose_other',\n",
       "       'purpose_renewable_energy', 'purpose_small_business',\n",
       "       'purpose_vacation', 'purpose_wedding'],\n",
       "      dtype='object')"
      ]
     },
     "execution_count": 17,
     "metadata": {},
     "output_type": "execute_result"
    }
   ],
   "source": [
    "data.columns"
   ]
  },
  {
   "cell_type": "code",
   "execution_count": 18,
   "metadata": {},
   "outputs": [],
   "source": [
    "# Drop one of the dummy variables for each categorical feature\n",
    "data = data.drop(columns=[\n",
    "    'home_ownership_RENT',\n",
    "    'grade_G',\n",
    "    'emp_length_10+ years',\n",
    "    'purpose_wedding',\n",
    "    'verification_status_Verified',\n",
    "   \n",
    "\n",
    "])"
   ]
  },
  {
   "cell_type": "code",
   "execution_count": 19,
   "metadata": {},
   "outputs": [],
   "source": [
    "# define return\n",
    "data['raw_roi'] = (data['total_pymnt'] + data['recoveries'])/data['loan_amnt'] - 1\n",
    "data['ann_roi'] = data['raw_roi'] / (data['term_num']/12)\n",
    "data['log_return'] = np.log1p(data['ann_roi'])            \n",
    "\n"
   ]
  },
  {
   "cell_type": "code",
   "execution_count": 20,
   "metadata": {},
   "outputs": [],
   "source": [
    "data['custom_return']= data['log_return']"
   ]
  },
  {
   "cell_type": "code",
   "execution_count": 21,
   "metadata": {},
   "outputs": [],
   "source": [
    "target_col = 'custom_return'\n",
    "cat_cols = ['term', 'grade', 'emp_length', 'home_ownership', 'verification_status', 'loan_status', 'purpose']\n",
    "num_cols = [col for col in data.columns if col not in cat_cols + [target_col]]"
   ]
  },
  {
   "cell_type": "code",
   "execution_count": 22,
   "metadata": {},
   "outputs": [
    {
     "data": {
      "text/plain": [
       "count    603883.000000\n",
       "mean          0.006871\n",
       "std           0.082572\n",
       "min          -0.404965\n",
       "25%           0.010563\n",
       "50%           0.032390\n",
       "75%           0.050964\n",
       "max           0.341100\n",
       "Name: custom_return, dtype: float64"
      ]
     },
     "execution_count": 22,
     "metadata": {},
     "output_type": "execute_result"
    }
   ],
   "source": [
    "data['custom_return'].describe()"
   ]
  },
  {
   "cell_type": "code",
   "execution_count": 399,
   "metadata": {},
   "outputs": [
    {
     "data": {
      "image/png": "[encoded data removed]",
      "text/plain": [
       "<Figure size 1000x600 with 1 Axes>"
      ]
     },
     "metadata": {},
     "output_type": "display_data"
    }
   ],
   "source": [
    "import matplotlib.pyplot as plt\n",
    "import seaborn as sns\n",
    "plt.figure(figsize=(10, 6))\n",
    "sns.histplot(data['custom_return'], bins=50, kde=True)\n",
    "plt.show()\n"
   ]
  },
  {
   "cell_type": "code",
   "execution_count": 23,
   "metadata": {},
   "outputs": [
    {
     "name": "stdout",
     "output_type": "stream",
     "text": [
      "Correlation with custom return:\n",
      "loan_status_Fully Paid    0.802470\n",
      "log1p_total_pymnt         0.506485\n",
      "loan_length               0.462157\n",
      "total_pymnt               0.373475\n",
      "total_pymnt_80w           0.373189\n",
      "                            ...   \n",
      "term_ 60 months          -0.101612\n",
      "int_rate                 -0.135126\n",
      "recoveries               -0.233317\n",
      "log1p_recoveries         -0.499436\n",
      "has_recovery             -0.519702\n",
      "Length: 84, dtype: float64\n"
     ]
    }
   ],
   "source": [
    "features = data.drop(columns=['custom_return','log_return','raw_roi','ann_roi'])\n",
    "# find correlation with custom return except custom return  \n",
    "correlation = features.corrwith(data['custom_return'])\n",
    "# sort the correlation values\n",
    "correlation = correlation.sort_values(ascending=False)\n",
    "print(\"Correlation with custom return:\")\n",
    "print(correlation)\n",
    "\n"
   ]
  },
  {
   "cell_type": "code",
   "execution_count": 24,
   "metadata": {},
   "outputs": [],
   "source": [
    "data = data.drop(columns=['total_pymnt','recoveries',\n",
    "  'log1p_total_pymnt','total_pymnt_80w',\n",
    "  'raw_roi','ann_roi','log_return',\n",
    "  'loan_status_Fully Paid','loan_status_Default','funded_amnt','fico_range_high'])"
   ]
  },
  {
   "cell_type": "code",
   "execution_count": 25,
   "metadata": {},
   "outputs": [],
   "source": [
    "x_df = data.drop(columns=[target_col])\n",
    "y = data[target_col]"
   ]
  },
  {
   "cell_type": "code",
   "execution_count": 41,
   "metadata": {},
   "outputs": [
    {
     "name": "stderr",
     "output_type": "stream",
     "text": [
      "/Users/aadhirachavan/Desktop/Finance and AI/.conda/lib/python3.11/site-packages/sklearn/utils/validation.py:921: UserWarning: pandas.DataFrame with sparse columns found.It will be converted to a dense numpy array.\n",
      "  warnings.warn(\n",
      "/Users/aadhirachavan/Desktop/Finance and AI/.conda/lib/python3.11/site-packages/sklearn/utils/validation.py:921: UserWarning: pandas.DataFrame with sparse columns found.It will be converted to a dense numpy array.\n",
      "  warnings.warn(\n"
     ]
    },
    {
     "name": "stdout",
     "output_type": "stream",
     "text": [
      "Top 30 features: ['loan_amnt', 'int_rate', 'installment', 'dti', 'open_acc', 'fico_range_low', 'loan_length', 'term_num', 'annual_inc_80w', 'log1p_annual_inc', 'log1p_revol_bal', 'log1p_loan_amnt', 'sqrt_revol_util', 'credit_age_yrs', 'has_recovery', 'log1p_recoveries', 'dti_times_rate', 'fico_avg', 'cluster_id_4', 'cluster_id_7', 'pc1', 'pc2', 'term_ 60 months', 'grade_B', 'grade_D', 'grade_E', 'grade_F', 'emp_length_None', 'home_ownership_MORTGAGE', 'purpose_credit_card']\n"
     ]
    }
   ],
   "source": [
    "from sklearn.feature_selection import SelectKBest, f_regression\n",
    "\n",
    "X = data.drop(columns='custom_return')\n",
    "y = data['custom_return']\n",
    "\n",
    "selector = SelectKBest(f_regression, k=30)\n",
    "X_new = selector.fit_transform(X, y)\n",
    "selected = X.columns[selector.get_support()]\n",
    "print(\"Top 30 features:\", selected.tolist())\n",
    "# then rebuild X = X[selected]\n",
    "X = X[selected]"
   ]
  },
  {
   "cell_type": "code",
   "execution_count": 42,
   "metadata": {},
   "outputs": [
    {
     "name": "stderr",
     "output_type": "stream",
     "text": [
      "/Users/aadhirachavan/Desktop/Finance and AI/.conda/lib/python3.11/site-packages/sklearn/utils/validation.py:921: UserWarning: pandas.DataFrame with sparse columns found.It will be converted to a dense numpy array.\n",
      "  warnings.warn(\n",
      "/Users/aadhirachavan/Desktop/Finance and AI/.conda/lib/python3.11/site-packages/sklearn/utils/validation.py:921: UserWarning: pandas.DataFrame with sparse columns found.It will be converted to a dense numpy array.\n",
      "  warnings.warn(\n",
      "/Users/aadhirachavan/Desktop/Finance and AI/.conda/lib/python3.11/site-packages/sklearn/utils/validation.py:921: UserWarning: pandas.DataFrame with sparse columns found.It will be converted to a dense numpy array.\n",
      "  warnings.warn(\n"
     ]
    }
   ],
   "source": [
    "from sklearn.model_selection import train_test_split\n",
    "from sklearn.preprocessing import StandardScaler\n",
    "\n",
    "# Split into training and testing\n",
    "X_train, X_test, y_train, y_test = train_test_split(\n",
    "    X, y, test_size=0.2, random_state=42\n",
    ")\n",
    "\n",
    "# Scale features (standardization)\n",
    "scaler = StandardScaler()\n",
    "X_train_scaled = scaler.fit_transform(X_train)\n",
    "X_test_scaled = scaler.transform(X_test)\n"
   ]
  },
  {
   "cell_type": "code",
   "execution_count": null,
   "metadata": {},
   "outputs": [],
   "source": []
  },
  {
   "cell_type": "code",
   "execution_count": 43,
   "metadata": {},
   "outputs": [
    {
     "name": "stdout",
     "output_type": "stream",
     "text": [
      "Epoch 1/20\n",
      "6794/6794 [==============================] - 10s 1ms/step - loss: 0.6045 - accuracy: 0.8574 - val_loss: 0.3245 - val_accuracy: 0.8674\n",
      "Epoch 2/20\n",
      "6794/6794 [==============================] - 9s 1ms/step - loss: 0.5681 - accuracy: 0.8631 - val_loss: 0.3376 - val_accuracy: 0.8526\n",
      "Epoch 3/20\n",
      "6794/6794 [==============================] - 8s 1ms/step - loss: 0.5550 - accuracy: 0.8676 - val_loss: 0.3099 - val_accuracy: 0.8704\n",
      "Epoch 4/20\n",
      "6794/6794 [==============================] - 9s 1ms/step - loss: 0.5484 - accuracy: 0.8703 - val_loss: 0.3076 - val_accuracy: 0.8755\n",
      "Epoch 5/20\n",
      "6794/6794 [==============================] - 9s 1ms/step - loss: 0.5442 - accuracy: 0.8724 - val_loss: 0.3185 - val_accuracy: 0.8660\n",
      "Epoch 6/20\n",
      "6794/6794 [==============================] - 9s 1ms/step - loss: 0.5418 - accuracy: 0.8735 - val_loss: 0.3011 - val_accuracy: 0.8752\n",
      "Epoch 7/20\n",
      "6794/6794 [==============================] - 9s 1ms/step - loss: 0.5403 - accuracy: 0.8743 - val_loss: 0.3116 - val_accuracy: 0.8707\n",
      "Epoch 8/20\n",
      "6794/6794 [==============================] - 11s 2ms/step - loss: 0.5389 - accuracy: 0.8744 - val_loss: 0.3135 - val_accuracy: 0.8758\n",
      "Epoch 9/20\n",
      "6794/6794 [==============================] - 9s 1ms/step - loss: 0.5381 - accuracy: 0.8750 - val_loss: 0.3069 - val_accuracy: 0.8770\n",
      "Epoch 10/20\n",
      "6794/6794 [==============================] - 11s 2ms/step - loss: 0.5375 - accuracy: 0.8759 - val_loss: 0.3010 - val_accuracy: 0.8751\n",
      "Epoch 11/20\n",
      "6794/6794 [==============================] - 10s 1ms/step - loss: 0.5372 - accuracy: 0.8756 - val_loss: 0.3177 - val_accuracy: 0.8650\n",
      "Epoch 12/20\n",
      "6794/6794 [==============================] - 9s 1ms/step - loss: 0.5364 - accuracy: 0.8754 - val_loss: 0.3149 - val_accuracy: 0.8739\n",
      "Epoch 13/20\n",
      "6794/6794 [==============================] - 9s 1ms/step - loss: 0.5360 - accuracy: 0.8759 - val_loss: 0.3089 - val_accuracy: 0.8721\n",
      "Epoch 14/20\n",
      "6794/6794 [==============================] - 9s 1ms/step - loss: 0.5351 - accuracy: 0.8763 - val_loss: 0.3216 - val_accuracy: 0.8605\n",
      "Epoch 15/20\n",
      "6794/6794 [==============================] - 10s 2ms/step - loss: 0.5348 - accuracy: 0.8752 - val_loss: 0.2961 - val_accuracy: 0.8840\n",
      "Epoch 16/20\n",
      "6794/6794 [==============================] - 10s 1ms/step - loss: 0.5353 - accuracy: 0.8763 - val_loss: 0.3025 - val_accuracy: 0.8762\n",
      "Epoch 17/20\n",
      "6794/6794 [==============================] - 9s 1ms/step - loss: 0.5343 - accuracy: 0.8759 - val_loss: 0.2980 - val_accuracy: 0.8787\n",
      "Epoch 18/20\n",
      "6794/6794 [==============================] - 9s 1ms/step - loss: 0.5343 - accuracy: 0.8756 - val_loss: 0.3155 - val_accuracy: 0.8721\n",
      "Epoch 19/20\n",
      "6794/6794 [==============================] - 9s 1ms/step - loss: 0.5341 - accuracy: 0.8763 - val_loss: 0.3109 - val_accuracy: 0.8719\n",
      "Epoch 20/20\n",
      "6794/6794 [==============================] - 10s 1ms/step - loss: 0.5333 - accuracy: 0.8759 - val_loss: 0.3147 - val_accuracy: 0.8687\n",
      "Classifier accuracy: 88.57%\n"
     ]
    }
   ],
   "source": [
    "\n",
    "# enhance reproducibility\n",
    "import random\n",
    "import numpy as np\n",
    "import tensorflow as tf\n",
    "# Set random seeds for reproducibility\n",
    "random.seed(42)\n",
    "np.random.seed(42)\n",
    "tf.random.set_seed(42)\n",
    "from tensorflow import keras\n",
    "from tensorflow.keras import layers\n",
    "from tensorflow.keras.models import Sequential\n",
    "from tensorflow.keras.layers import Dense\n",
    "from tensorflow.keras import Sequential\n",
    "from tensorflow.keras.layers import Dense\n",
    "from tensorflow.keras.callbacks import EarlyStopping\n",
    "\n",
    "# prepare binary labels\n",
    "y_bin_train = (y_train > 0).astype(int)\n",
    "y_bin_test  = (y_test  > 0).astype(int)\n",
    "\n",
    "# build classifier\n",
    "clf = Sequential([\n",
    "  Dense(50, activation='relu', input_shape=(X_train_scaled.shape[1],)),\n",
    "  Dense(1, activation='sigmoid')\n",
    "])\n",
    "clf.compile(\n",
    "  optimizer='adam',\n",
    "  loss='binary_crossentropy',\n",
    "  metrics=['accuracy']\n",
    ")\n",
    "\n",
    "# up‐weight the rare negative class so you don’t just predict “always positive”\n",
    "neg, pos = np.bincount(y_bin_train)\n",
    "class_weight = {0: pos/neg, 1: 1.0}\n",
    "\n",
    "clf.fit(\n",
    "  X_train_scaled, y_bin_train,\n",
    "  validation_split=0.1,\n",
    "  epochs=20, batch_size=64,\n",
    "  class_weight=class_weight,\n",
    "  callbacks=[EarlyStopping('val_loss', patience=5, restore_best_weights=True)]\n",
    ")\n",
    "\n",
    "# evaluate directional accuracy\n",
    "loss, acc = clf.evaluate(X_test_scaled, y_bin_test, verbose=0)\n",
    "print(f\"Classifier accuracy: {acc:.2%}\")\n",
    "\n"
   ]
  },
  {
   "cell_type": "code",
   "execution_count": 49,
   "metadata": {},
   "outputs": [],
   "source": [
    "\n",
    "def build_model(hp):\n",
    "    model = Sequential()\n",
    "    model.add(Dense(\n",
    "        hp.Int('units', min_value=10, max_value=100, step=10),\n",
    "        activation='relu',\n",
    "        input_shape=(X_train_scaled.shape[1],)\n",
    "    ))\n",
    "    model.add(Dense(1))  # linear for regression\n",
    "    model.compile(\n",
    "        optimizer='adam',\n",
    "        loss='mean_squared_error',\n",
    "        metrics=['mse']\n",
    "    )\n",
    "    return model\n"
   ]
  },
  {
   "cell_type": "code",
   "execution_count": 50,
   "metadata": {},
   "outputs": [
    {
     "name": "stdout",
     "output_type": "stream",
     "text": [
      "Trial 10 Complete [00h 04m 15s]\n",
      "val_mse: 0.0030302435625344515\n",
      "\n",
      "Best val_mse So Far: 0.0030239413026720285\n",
      "Total elapsed time: 00h 55m 27s\n"
     ]
    }
   ],
   "source": [
    "import keras_tuner as kt\n",
    "from keras_tuner import RandomSearch\n",
    "\n",
    "tuner = RandomSearch(\n",
    "    build_model,\n",
    "    objective='val_mse',\n",
    "    max_trials=10,\n",
    "    executions_per_trial=2,\n",
    "    directory='finai_project',\n",
    "    project_name='loan_return_prediction'\n",
    ")\n",
    "tuner.search(\n",
    "    X_train_scaled, y_train,\n",
    "    validation_split=0.1,\n",
    "    epochs=20,\n",
    "    batch_size=64\n",
    ")\n",
    "tuner.search(X_train_scaled, y_train, validation_split=0.1, epochs=20, batch_size=64)\n",
    "\n"
   ]
  },
  {
   "cell_type": "code",
   "execution_count": null,
   "metadata": {},
   "outputs": [],
   "source": [
    "\n",
    "\n"
   ]
  },
  {
   "cell_type": "code",
   "execution_count": 53,
   "metadata": {},
   "outputs": [
    {
     "name": "stdout",
     "output_type": "stream",
     "text": [
      "WARNING:tensorflow:Detecting that an object or model or tf.train.Checkpoint is being deleted with unrestored values. See the following logs for the specific values in question. To silence these warnings, use `status.expect_partial()`. See https://www.tensorflow.org/api_docs/python/tf/train/Checkpoint#restorefor details about the status object returned by the restore function.\n",
      "WARNING:tensorflow:Value in checkpoint could not be found in the restored object: (root).optimizer.iter\n",
      "WARNING:tensorflow:Value in checkpoint could not be found in the restored object: (root).optimizer.beta_1\n",
      "WARNING:tensorflow:Value in checkpoint could not be found in the restored object: (root).optimizer.beta_2\n",
      "WARNING:tensorflow:Value in checkpoint could not be found in the restored object: (root).optimizer.decay\n",
      "WARNING:tensorflow:Value in checkpoint could not be found in the restored object: (root).optimizer.learning_rate\n",
      "3775/3775 [==============================] - 1s 242us/step\n",
      "Test MSE: 0.00303\n",
      "Test MAE: 0.02675\n",
      "Test R² : 0.55347\n",
      "\n",
      "Avg Predicted Return (Test): 0.0081\n",
      "Avg Actual    Return (Test): 0.0070\n",
      "Directional Accuracy: 80.72%\n",
      "\n",
      "Top 100 (raw preds) — Avg Pred: 0.2051, Avg Actual: 0.2002\n",
      "Top 100 (linear‐scaled) — Avg Pred: 0.1791, Avg Actual: 0.2002\n",
      "Top 100 (isotonic) — Avg Pred: 0.1552, Avg Actual: 0.1588\n"
     ]
    }
   ],
   "source": [
    "import numpy as np\n",
    "from sklearn.metrics import mean_squared_error, mean_absolute_error, r2_score\n",
    "from sklearn.isotonic import IsotonicRegression\n",
    "from sklearn.linear_model import LinearRegression\n",
    "\n",
    "# 1) Load best model & predict once\n",
    "best_model = tuner.get_best_models(num_models=1)[0]\n",
    "preds = best_model.predict(X_test_scaled).flatten()\n",
    "y_arr = y_test.to_numpy()\n",
    "\n",
    "# 2) Basic test metrics\n",
    "mse = mean_squared_error(y_arr, preds)\n",
    "mae = mean_absolute_error(y_arr, preds)\n",
    "r2  = r2_score(y_arr, preds)\n",
    "print(f\"Test MSE: {mse:.5f}\")\n",
    "print(f\"Test MAE: {mae:.5f}\")\n",
    "print(f\"Test R² : {r2:.5f}\\n\")\n",
    "\n",
    "# 3) Avg returns & directional accuracy\n",
    "print(f\"Avg Predicted Return (Test): {preds.mean():.4f}\")\n",
    "print(f\"Avg Actual    Return (Test): {y_arr.mean():.4f}\")\n",
    "dir_acc = np.mean(np.sign(preds) == np.sign(y_arr))\n",
    "print(f\"Directional Accuracy: {dir_acc:.2%}\\n\")\n",
    "\n",
    "# 4) Top-100 on raw preds\n",
    "N = 100\n",
    "idx_raw = np.argsort(preds)[-N:]\n",
    "print(\"Top 100 (raw preds) —\",\n",
    "      f\"Avg Pred: {preds[idx_raw].mean():.4f},\",\n",
    "      f\"Avg Actual: {y_arr[idx_raw].mean():.4f}\")\n",
    "\n",
    "# —–––––––––––––––––––––––––––––––––––––––––––––––––––––––––––\n",
    "# 5a) OPTION A: Simple linear rescaling to align means\n",
    "scale = y_arr.mean() / preds.mean()\n",
    "preds_scaled = preds * scale\n",
    "idx_scale = np.argsort(preds_scaled)[-N:]\n",
    "print(\"Top 100 (linear‐scaled) —\",\n",
    "      f\"Avg Pred: {preds_scaled[idx_scale].mean():.4f},\",\n",
    "      f\"Avg Actual: {y_arr[idx_scale].mean():.4f}\")\n",
    "\n",
    "# 5b) OPTION B: Non-parametric isotonic calibration\n",
    "#    (requires a little held-out slice for fitting)\n",
    "split = len(preds) // 2\n",
    "ir = IsotonicRegression(out_of_bounds='clip')\n",
    "ir.fit(preds[:split], y_arr[:split])\n",
    "preds_iso = ir.transform(preds[split:])\n",
    "idx_iso = np.argsort(preds_iso)[-N:]\n",
    "print(\"Top 100 (isotonic) —\",\n",
    "      f\"Avg Pred: {preds_iso[idx_iso].mean():.4f},\",\n",
    "      f\"Avg Actual: {y_arr[split:][idx_iso].mean():.4f}\")\n"
   ]
  },
  {
   "cell_type": "code",
   "execution_count": 54,
   "metadata": {},
   "outputs": [
    {
     "name": "stdout",
     "output_type": "stream",
     "text": [
      "Average Actual Return (Random Strategy - 100 Loans): -0.0025\n",
      "Average Actual Return (Random Strategy - All Loans): 0.0069\n"
     ]
    }
   ],
   "source": [
    "\n",
    "\n",
    "# Random Strategy\n",
    "# Set a seed for reproducibility (optional)\n",
    "np.random.seed(42)\n",
    "\n",
    "# Randomly sample 100 loans from the entire dataset\n",
    "random_indices = np.random.choice(len(y), 100, replace=False)\n",
    "\n",
    "# Compute average actual return of those randomly selected loans\n",
    "avg_random_actual_return = y.iloc[random_indices].mean()\n",
    "\n",
    "print(f\"Average Actual Return (Random Strategy - 100 Loans): {avg_random_actual_return:.4f}\")\n",
    "\n",
    "# Average return of all loans in the dataset (baseline for random strategy over all loans)\n",
    "avg_random_return_all = y.mean()\n",
    "\n",
    "print(f\"Average Actual Return (Random Strategy - All Loans): {avg_random_return_all:.4f}\")\n"
   ]
  }
 ],
 "metadata": {
  "kernelspec": {
   "display_name": "Python 3",
   "language": "python",
   "name": "python3"
  },
  "language_info": {
   "codemirror_mode": {
    "name": "ipython",
    "version": 3
   },
   "file_extension": ".py",
   "mimetype": "text/x-python",
   "name": "python",
   "nbconvert_exporter": "python",
   "pygments_lexer": "ipython3",
   "version": "3.11.5"
  }
 },
 "nbformat": 4,
 "nbformat_minor": 2
}
